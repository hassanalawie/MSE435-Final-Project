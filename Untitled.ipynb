{
 "cells": [
  {
   "cell_type": "code",
   "execution_count": 1,
   "id": "2a0d22fc-9d68-47a4-962b-5941901c06d0",
   "metadata": {},
   "outputs": [
    {
     "name": "stdout",
     "output_type": "stream",
     "text": [
      "Conversion completed! CSV saved as FlightLegs.csv.\n"
     ]
    }
   ],
   "source": [
    "import csv\n",
    "\n",
    "# Define file paths\n",
    "input_file = \"FlightLegs.txt\"\n",
    "output_file = \"FlightLegs.csv\"\n",
    "\n",
    "# Read the input file and process the data\n",
    "with open(input_file, \"r\") as infile:\n",
    "    lines = infile.readlines()\n",
    "\n",
    "# Clean and format data\n",
    "formatted_data = [line.replace(\"'\", \"\").strip().split(\",\") for line in lines]\n",
    "\n",
    "# Define headers\n",
    "headers = [\"Date\", \"Airline\", \"Aircraft\", \"Departure Time\", \"Arrival Time\", \"Duration\", \"Destination\", \"Flight Number\", \"Arrival Airport\"]\n",
    "\n",
    "# Write to CSV file\n",
    "with open(output_file, \"w\", newline=\"\") as outfile:\n",
    "    writer = csv.writer(outfile)\n",
    "    writer.writerow(headers)  # Write header row\n",
    "    writer.writerows(formatted_data)  # Write data rows\n",
    "\n",
    "print(f\"Conversion completed! CSV saved as {output_file}.\")"
   ]
  },
  {
   "cell_type": "code",
   "execution_count": null,
   "id": "7ff810cb-0451-460f-8f5d-495551646f8d",
   "metadata": {},
   "outputs": [],
   "source": [
    "def separate_pairing_into_duties(pairing):\n",
    "    duties = []\n",
    "    legs = pairing.get(\"legs\", [])\n",
    "    if not legs:\n",
    "        return duties\n",
    "    legs_by_day = {}\n",
    "    for leg in legs:\n",
    "        day = leg.get(\"day\", 1)\n",
    "        if day not in legs_by_day:\n",
    "            legs_by_day[day] = []\n",
    "        legs_by_day[day].append(leg)\n",
    "    for day_key in sorted(legs_by_day.keys()):\n",
    "        day_legs = legs_by_day[day_key]\n",
    "        hrs = sum(l[\"hours\"] for l in day_legs)\n",
    "        duties.append({\"legs\": day_legs, \"total_flight_hours\": hrs})\n",
    "    return duties\n",
    "\n",
    "def evaluate_deadhead(duty, deadhead_used):\n",
    "    if deadhead_used:\n",
    "        return False\n",
    "    legs = duty.get(\"legs\", [])\n",
    "    for i in range(len(legs) - 1):\n",
    "        if legs[i][\"destination\"] != legs[i + 1][\"origin\"]:\n",
    "            return True\n",
    "    return False\n",
    "\n",
    "def evaluate_per_diem(duty):\n",
    "    return 4.0 * duty.get(\"total_flight_hours\", 0.0)\n",
    "\n",
    "def evaluate_hotel_costs(pairing):\n",
    "    # pairing can store a field like \"hotel_nights\" or \"num_overnights\"\n",
    "    nights = pairing.get(\"hotel_nights\", 0)\n",
    "    return 200.0 * nights\n",
    "\n",
    "def calculate_cost(pairing):\n",
    "    duties = separate_pairing_into_duties(pairing)\n",
    "    used_deadhead = False\n",
    "    total_duty_cost = 0.0\n",
    "    for duty in duties:\n",
    "        flight_pay = duty.get(\"total_flight_hours\", 0.0) * 45.0\n",
    "        per_diem = evaluate_per_diem(duty)\n",
    "        cost_for_duty = flight_pay + per_diem\n",
    "        if evaluate_deadhead(duty, used_deadhead):\n",
    "            cost_for_duty += 3000.0\n",
    "            used_deadhead = True\n",
    "        if cost_for_duty < 5.5 * 45.0:\n",
    "            cost_for_duty = 5.5 * 45.0\n",
    "        total_duty_cost += cost_for_duty\n",
    "    hotel_cost = evaluate_hotel_costs(pairing)\n",
    "    return total_duty_cost + hotel_cost"
   ]
  }
 ],
 "metadata": {
  "kernelspec": {
   "display_name": "Python 3 (ipykernel)",
   "language": "python",
   "name": "python3"
  },
  "language_info": {
   "codemirror_mode": {
    "name": "ipython",
    "version": 3
   },
   "file_extension": ".py",
   "mimetype": "text/x-python",
   "name": "python",
   "nbconvert_exporter": "python",
   "pygments_lexer": "ipython3",
   "version": "3.12.4"
  }
 },
 "nbformat": 4,
 "nbformat_minor": 5
}
